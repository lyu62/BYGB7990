{
 "cells": [
  {
   "cell_type": "code",
   "execution_count": 1,
   "metadata": {},
   "outputs": [],
   "source": [
    "import pandas as pd\n",
    "import xlrd\n",
    "import matplotlib.pyplot as plt"
   ]
  },
  {
   "cell_type": "code",
   "execution_count": 2,
   "metadata": {},
   "outputs": [
    {
     "data": {
      "text/plain": [
       "['Date', 'Open', 'High', 'Low', 'Close', 'Adj Close', 'Volume']"
      ]
     },
     "execution_count": 2,
     "metadata": {},
     "output_type": "execute_result"
    }
   ],
   "source": [
    "filename = 'AMZN.xls'\n",
    "AMZN = xlrd.open_workbook(filename)    \n",
    "table = AMZN.sheet_by_index(0)         \n",
    "table.row_values(0)                  "
   ]
  },
  {
   "cell_type": "code",
   "execution_count": 3,
   "metadata": {},
   "outputs": [],
   "source": [
    "date_list = table.col_values(0)      # get every columns from sheet\n",
    "open_value = table.col_values(1)\n",
    "high_value = table.col_values(2)\n",
    "low_value = table.col_values(3)\n",
    "close_value = table.col_values(4)\n",
    "adj_close_value = table.col_values(5)     \n",
    "volume_number = table.col_values(6)"
   ]
  },
  {
   "cell_type": "code",
   "execution_count": 4,
   "metadata": {},
   "outputs": [],
   "source": [
    "date = []         # build list of every attritubes then append data to these lists\n",
    "open = []\n",
    "high =[]\n",
    "low = []\n",
    "close = []\n",
    "adj_close = []\n",
    "volume = []\n",
    "daily_return = []\n",
    "for i in range(2,len(adj_close_value)):\n",
    "    datetime = xlrd.xldate.xldate_as_datetime(date_list[i], AMZN.datemode)       # get datetime \n",
    "    date.append(datetime)\n",
    "    open.append(open_value[i])\n",
    "    high.append(high_value[i])\n",
    "    low.append(low_value[i])\n",
    "    adj_close.append(adj_close_value[i])\n",
    "    volume.append(volume_number[i])\n",
    "    return_daily = (adj_close_value[i]-adj_close_value[i-1])/adj_close_value[i-1]\n",
    "    daily_return.append(return_daily)\n",
    "df = pd.DataFrame()  "
   ]
  },
  {
   "cell_type": "code",
   "execution_count": 5,
   "metadata": {},
   "outputs": [
    {
     "data": {
      "text/html": [
       "<div>\n",
       "<style scoped>\n",
       "    .dataframe tbody tr th:only-of-type {\n",
       "        vertical-align: middle;\n",
       "    }\n",
       "\n",
       "    .dataframe tbody tr th {\n",
       "        vertical-align: top;\n",
       "    }\n",
       "\n",
       "    .dataframe thead th {\n",
       "        text-align: right;\n",
       "    }\n",
       "</style>\n",
       "<table border=\"1\" class=\"dataframe\">\n",
       "  <thead>\n",
       "    <tr style=\"text-align: right;\">\n",
       "      <th></th>\n",
       "      <th>date</th>\n",
       "      <th>open</th>\n",
       "      <th>high</th>\n",
       "      <th>low</th>\n",
       "      <th>adj_close</th>\n",
       "      <th>volume</th>\n",
       "      <th>daily return</th>\n",
       "    </tr>\n",
       "  </thead>\n",
       "  <tbody>\n",
       "    <tr>\n",
       "      <th>0</th>\n",
       "      <td>2019-01-29</td>\n",
       "      <td>1631.27</td>\n",
       "      <td>1632.38</td>\n",
       "      <td>1590.72</td>\n",
       "      <td>1593.88</td>\n",
       "      <td>4632800.0</td>\n",
       "      <td>-2.69%</td>\n",
       "    </tr>\n",
       "    <tr>\n",
       "      <th>1</th>\n",
       "      <td>2019-01-30</td>\n",
       "      <td>1623.00</td>\n",
       "      <td>1676.95</td>\n",
       "      <td>1619.68</td>\n",
       "      <td>1670.43</td>\n",
       "      <td>5783800.0</td>\n",
       "      <td>4.80%</td>\n",
       "    </tr>\n",
       "    <tr>\n",
       "      <th>2</th>\n",
       "      <td>2019-01-31</td>\n",
       "      <td>1692.85</td>\n",
       "      <td>1736.41</td>\n",
       "      <td>1679.08</td>\n",
       "      <td>1718.73</td>\n",
       "      <td>10910300.0</td>\n",
       "      <td>2.89%</td>\n",
       "    </tr>\n",
       "    <tr>\n",
       "      <th>3</th>\n",
       "      <td>2019-02-01</td>\n",
       "      <td>1638.88</td>\n",
       "      <td>1673.06</td>\n",
       "      <td>1622.01</td>\n",
       "      <td>1626.23</td>\n",
       "      <td>11506200.0</td>\n",
       "      <td>-5.38%</td>\n",
       "    </tr>\n",
       "    <tr>\n",
       "      <th>4</th>\n",
       "      <td>2019-02-04</td>\n",
       "      <td>1623.00</td>\n",
       "      <td>1649.63</td>\n",
       "      <td>1613.50</td>\n",
       "      <td>1633.31</td>\n",
       "      <td>4929100.0</td>\n",
       "      <td>0.44%</td>\n",
       "    </tr>\n",
       "    <tr>\n",
       "      <th>...</th>\n",
       "      <td>...</td>\n",
       "      <td>...</td>\n",
       "      <td>...</td>\n",
       "      <td>...</td>\n",
       "      <td>...</td>\n",
       "      <td>...</td>\n",
       "      <td>...</td>\n",
       "    </tr>\n",
       "    <tr>\n",
       "      <th>246</th>\n",
       "      <td>2020-01-21</td>\n",
       "      <td>1865.00</td>\n",
       "      <td>1894.27</td>\n",
       "      <td>1860.00</td>\n",
       "      <td>1892.00</td>\n",
       "      <td>3707800.0</td>\n",
       "      <td>1.46%</td>\n",
       "    </tr>\n",
       "    <tr>\n",
       "      <th>247</th>\n",
       "      <td>2020-01-22</td>\n",
       "      <td>1896.09</td>\n",
       "      <td>1902.50</td>\n",
       "      <td>1883.34</td>\n",
       "      <td>1887.46</td>\n",
       "      <td>3216300.0</td>\n",
       "      <td>-0.24%</td>\n",
       "    </tr>\n",
       "    <tr>\n",
       "      <th>248</th>\n",
       "      <td>2020-01-23</td>\n",
       "      <td>1885.11</td>\n",
       "      <td>1889.98</td>\n",
       "      <td>1872.76</td>\n",
       "      <td>1884.58</td>\n",
       "      <td>2484600.0</td>\n",
       "      <td>-0.15%</td>\n",
       "    </tr>\n",
       "    <tr>\n",
       "      <th>249</th>\n",
       "      <td>2020-01-24</td>\n",
       "      <td>1891.37</td>\n",
       "      <td>1894.99</td>\n",
       "      <td>1847.44</td>\n",
       "      <td>1861.64</td>\n",
       "      <td>3766200.0</td>\n",
       "      <td>-1.22%</td>\n",
       "    </tr>\n",
       "    <tr>\n",
       "      <th>250</th>\n",
       "      <td>2020-01-27</td>\n",
       "      <td>1820.00</td>\n",
       "      <td>1841.00</td>\n",
       "      <td>1815.34</td>\n",
       "      <td>1828.34</td>\n",
       "      <td>3523400.0</td>\n",
       "      <td>-1.79%</td>\n",
       "    </tr>\n",
       "  </tbody>\n",
       "</table>\n",
       "<p>251 rows × 7 columns</p>\n",
       "</div>"
      ],
      "text/plain": [
       "          date     open     high      low  adj_close      volume daily return\n",
       "0   2019-01-29  1631.27  1632.38  1590.72    1593.88   4632800.0       -2.69%\n",
       "1   2019-01-30  1623.00  1676.95  1619.68    1670.43   5783800.0        4.80%\n",
       "2   2019-01-31  1692.85  1736.41  1679.08    1718.73  10910300.0        2.89%\n",
       "3   2019-02-01  1638.88  1673.06  1622.01    1626.23  11506200.0       -5.38%\n",
       "4   2019-02-04  1623.00  1649.63  1613.50    1633.31   4929100.0        0.44%\n",
       "..         ...      ...      ...      ...        ...         ...          ...\n",
       "246 2020-01-21  1865.00  1894.27  1860.00    1892.00   3707800.0        1.46%\n",
       "247 2020-01-22  1896.09  1902.50  1883.34    1887.46   3216300.0       -0.24%\n",
       "248 2020-01-23  1885.11  1889.98  1872.76    1884.58   2484600.0       -0.15%\n",
       "249 2020-01-24  1891.37  1894.99  1847.44    1861.64   3766200.0       -1.22%\n",
       "250 2020-01-27  1820.00  1841.00  1815.34    1828.34   3523400.0       -1.79%\n",
       "\n",
       "[251 rows x 7 columns]"
      ]
     },
     "execution_count": 5,
     "metadata": {},
     "output_type": "execute_result"
    }
   ],
   "source": [
    "df['date'] = date                       # append lists to dataframe \n",
    "df['open'] = open\n",
    "df['open'] = df['open'].round(2)\n",
    "df['high'] = high\n",
    "df['high'] = df['high'].round(2)\n",
    "df['low'] = low\n",
    "df['low'] = df['low'].round(2)\n",
    "df['adj_close'] = adj_close\n",
    "df['adj_close'] = df['adj_close'].round(2)\n",
    "df['volume'] = volume\n",
    "df['daily return'] = daily_return\n",
    "df['daily return'] = df['daily return'].apply(lambda x: format(x, '.2%'))\n",
    "df"
   ]
  },
  {
   "cell_type": "code",
   "execution_count": 6,
   "metadata": {},
   "outputs": [
    {
     "data": {
      "image/png": "[encoded data removed]",
      "text/plain": [
       "<Figure size 432x288 with 1 Axes>"
      ]
     },
     "metadata": {
      "needs_background": "light"
     },
     "output_type": "display_data"
    }
   ],
   "source": [
    "hist = df['daily return'].hist(bins=500)         "
   ]
  },
  {
   "cell_type": "code",
   "execution_count": null,
   "metadata": {},
   "outputs": [],
   "source": []
  }
 ],
 "metadata": {
  "kernelspec": {
   "display_name": "Python 3",
   "language": "python",
   "name": "python3"
  },
  "language_info": {
   "codemirror_mode": {
    "name": "ipython",
    "version": 3
   },
   "file_extension": ".py",
   "mimetype": "text/x-python",
   "name": "python",
   "nbconvert_exporter": "python",
   "pygments_lexer": "ipython3",
   "version": "3.7.3"
  }
 },
 "nbformat": 4,
 "nbformat_minor": 2
}
